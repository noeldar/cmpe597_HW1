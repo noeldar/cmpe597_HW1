{
  "nbformat": 4,
  "nbformat_minor": 0,
  "metadata": {
    "colab": {
      "name": "Cmpe597_HW1_part_b.ipynb",
      "provenance": []
    },
    "kernelspec": {
      "name": "python3",
      "display_name": "Python 3"
    },
    "language_info": {
      "name": "python"
    }
  },
  "cells": [
    {
      "cell_type": "code",
      "execution_count": null,
      "metadata": {
        "id": "-4wdaxn7VBnH"
      },
      "outputs": [],
      "source": [
        "import tensorflow as tf\n",
        "import numpy as np"
      ]
    },
    {
      "cell_type": "code",
      "source": [
        "import matplotlib.pyplot as plt\n",
        "def plot_decision_boundary(X, y, model, steps=1000, cmap='Paired'):\n",
        "    \"\"\"\n",
        "    Function to plot the decision boundary and data points of a model.\n",
        "    Data points are colored based on their actual label.\n",
        "    \"\"\"\n",
        "    cmap = plt.get_cmap(cmap)\n",
        "\n",
        "    # Define region of interest by data limits\n",
        "    xmin, xmax = X[:,0].min() - 1, X[:,0].max() + 1\n",
        "    ymin, ymax = X[:,1].min() - 1, X[:,1].max() + 1\n",
        "    steps = 1000\n",
        "    x_span = np.linspace(xmin, xmax, steps)\n",
        "    y_span = np.linspace(ymin, ymax, steps)\n",
        "    xx, yy = np.meshgrid(x_span, y_span)\n",
        "\n",
        "    # Make predictions across region of interest\n",
        "    labels = model.predict(np.c_[xx.ravel(), yy.ravel()])\n",
        "\n",
        "    # Plot decision boundary in region of interest\n",
        "    z = labels.reshape(xx.shape)\n",
        "\n",
        "    fig, ax = plt.subplots()\n",
        "    ax.contourf(xx, yy, z, cmap=cmap, alpha=0.5)\n",
        "\n",
        "    # Get predicted labels on training data and plot\n",
        "    train_labels = model.predict(X)\n",
        "    ax.scatter(X[:,0], X[:,1], c=y.ravel(), cmap=cmap, lw=0)\n",
        "\n",
        "    return fig, ax"
      ],
      "metadata": {
        "id": "NM-6rELGjUCq"
      },
      "execution_count": null,
      "outputs": []
    },
    {
      "cell_type": "code",
      "source": [
        "X_train = np.load('X_train.npy')\n",
        "y_train = np.load('y_train.npy')\n",
        "X_test = np.load('X_test.npy')\n",
        "y_test = np.load('y_test.npy')"
      ],
      "metadata": {
        "id": "B1SKhwdFVMiB"
      },
      "execution_count": null,
      "outputs": []
    },
    {
      "cell_type": "code",
      "source": [
        "model = tf.keras.Sequential()\n",
        "model.add(tf.keras.layers.Dense(100, input_dim=2, activation=\"relu\"))\n",
        "model.add(tf.keras.layers.Dense(1, activation='sigmoid'))\n",
        "model.compile(loss=\"binary_crossentropy\", optimizer=tf.keras.optimizers.Adam(learning_rate=1e-1))"
      ],
      "metadata": {
        "id": "C4lwT075VUsV"
      },
      "execution_count": null,
      "outputs": []
    },
    {
      "cell_type": "code",
      "source": [
        "# This builds the model for the first time:\n",
        "model.fit(X_train, y_train, batch_size=32, epochs=10)"
      ],
      "metadata": {
        "colab": {
          "base_uri": "https://localhost:8080/"
        },
        "id": "vskFeNL1X_-D",
        "outputId": "1032b27a-b406-4d05-8070-626a93229ec2"
      },
      "execution_count": null,
      "outputs": [
        {
          "output_type": "stream",
          "name": "stdout",
          "text": [
            "Epoch 1/10\n",
            "2/2 [==============================] - 0s 6ms/step - loss: 0.3485\n",
            "Epoch 2/10\n",
            "2/2 [==============================] - 0s 7ms/step - loss: 0.2824\n",
            "Epoch 3/10\n",
            "2/2 [==============================] - 0s 10ms/step - loss: 0.2431\n",
            "Epoch 4/10\n",
            "2/2 [==============================] - 0s 5ms/step - loss: 0.2160\n",
            "Epoch 5/10\n",
            "2/2 [==============================] - 0s 4ms/step - loss: 0.1940\n",
            "Epoch 6/10\n",
            "2/2 [==============================] - 0s 7ms/step - loss: 0.1779\n",
            "Epoch 7/10\n",
            "2/2 [==============================] - 0s 7ms/step - loss: 0.1681\n",
            "Epoch 8/10\n",
            "2/2 [==============================] - 0s 5ms/step - loss: 0.1637\n",
            "Epoch 9/10\n",
            "2/2 [==============================] - 0s 5ms/step - loss: 0.1505\n",
            "Epoch 10/10\n",
            "2/2 [==============================] - 0s 5ms/step - loss: 0.1717\n"
          ]
        },
        {
          "output_type": "execute_result",
          "data": {
            "text/plain": [
              "<keras.callbacks.History at 0x7f94a4918e50>"
            ]
          },
          "metadata": {},
          "execution_count": 20
        }
      ]
    },
    {
      "cell_type": "code",
      "source": [
        "results = model.evaluate(X_test, y_test, batch_size=32)\n",
        "print(\"test loss, test acc:\", results)"
      ],
      "metadata": {
        "colab": {
          "base_uri": "https://localhost:8080/"
        },
        "id": "ynL0-XokxfdZ",
        "outputId": "c607bde3-f3e6-4b68-9f26-2d840fd004c5"
      },
      "execution_count": null,
      "outputs": [
        {
          "output_type": "stream",
          "name": "stdout",
          "text": [
            "2/2 [==============================] - 0s 6ms/step - loss: 0.3431\n",
            "test loss, test acc: 0.34313690662384033\n"
          ]
        }
      ]
    },
    {
      "cell_type": "code",
      "source": [
        "plot_decision_boundary(X_train, y_train, model, cmap = 'RdBu')"
      ],
      "metadata": {
        "colab": {
          "base_uri": "https://localhost:8080/",
          "height": 304
        },
        "id": "sCAstUoWiBqo",
        "outputId": "83d32ec5-64a5-40dd-e33e-576cb78c9525"
      },
      "execution_count": null,
      "outputs": [
        {
          "output_type": "execute_result",
          "data": {
            "text/plain": [
              "(<Figure size 432x288 with 1 Axes>,\n",
              " <matplotlib.axes._subplots.AxesSubplot at 0x7f94a37e72d0>)"
            ]
          },
          "metadata": {},
          "execution_count": 22
        },
        {
          "output_type": "display_data",
          "data": {
            "text/plain": [
              "<Figure size 432x288 with 1 Axes>"
            ],
            "image/png": "[encoded data removed]"
          },
          "metadata": {
            "needs_background": "light"
          }
        }
      ]
    },
    {
      "cell_type": "code",
      "source": [
        "model_low = tf.keras.Sequential()\n",
        "model_low.add(tf.keras.layers.Dense(2, input_dim=2, activation=\"relu\"))\n",
        "model_low.add(tf.keras.layers.Dense(1, activation='sigmoid'))\n",
        "model_low.compile(loss=\"binary_crossentropy\", optimizer=tf.keras.optimizers.Adam(learning_rate=1e-1))\n",
        "model_low.fit(X_train, y_train, batch_size=32, epochs=10)"
      ],
      "metadata": {
        "colab": {
          "base_uri": "https://localhost:8080/"
        },
        "id": "NL9g1_CRjLs6",
        "outputId": "99573002-4c81-4d8d-ecba-272d14097f1d"
      },
      "execution_count": null,
      "outputs": [
        {
          "output_type": "stream",
          "name": "stdout",
          "text": [
            "Epoch 1/10\n",
            "2/2 [==============================] - 0s 6ms/step - loss: 0.7254\n",
            "Epoch 2/10\n",
            "2/2 [==============================] - 0s 6ms/step - loss: 0.6846\n",
            "Epoch 3/10\n",
            "2/2 [==============================] - 0s 5ms/step - loss: 0.6837\n",
            "Epoch 4/10\n",
            "2/2 [==============================] - 0s 7ms/step - loss: 0.6818\n",
            "Epoch 5/10\n",
            "2/2 [==============================] - 0s 5ms/step - loss: 0.6758\n",
            "Epoch 6/10\n",
            "2/2 [==============================] - 0s 7ms/step - loss: 0.6660\n",
            "Epoch 7/10\n",
            "2/2 [==============================] - 0s 7ms/step - loss: 0.6592\n",
            "Epoch 8/10\n",
            "2/2 [==============================] - 0s 10ms/step - loss: 0.6472\n",
            "Epoch 9/10\n",
            "2/2 [==============================] - 0s 6ms/step - loss: 0.6373\n",
            "Epoch 10/10\n",
            "2/2 [==============================] - 0s 5ms/step - loss: 0.6333\n"
          ]
        },
        {
          "output_type": "execute_result",
          "data": {
            "text/plain": [
              "<keras.callbacks.History at 0x7f949cec9310>"
            ]
          },
          "metadata": {},
          "execution_count": 25
        }
      ]
    },
    {
      "cell_type": "code",
      "source": [
        "plot_decision_boundary(X_train, y_train, model_low, cmap = 'RdBu')"
      ],
      "metadata": {
        "colab": {
          "base_uri": "https://localhost:8080/",
          "height": 304
        },
        "id": "tFlzW_BxjL2I",
        "outputId": "d1f63dc8-5fd5-4ee1-b61a-b3da128c872a"
      },
      "execution_count": null,
      "outputs": [
        {
          "output_type": "execute_result",
          "data": {
            "text/plain": [
              "(<Figure size 432x288 with 1 Axes>,\n",
              " <matplotlib.axes._subplots.AxesSubplot at 0x7f949cedd110>)"
            ]
          },
          "metadata": {},
          "execution_count": 26
        },
        {
          "output_type": "display_data",
          "data": {
            "text/plain": [
              "<Figure size 432x288 with 1 Axes>"
            ],
            "image/png": "[encoded data removed]"
          },
          "metadata": {
            "needs_background": "light"
          }
        }
      ]
    },
    {
      "cell_type": "code",
      "source": [
        "results = model_low.evaluate(X_test, y_test, batch_size=32)\n",
        "print(\"test loss, test acc:\", results)"
      ],
      "metadata": {
        "colab": {
          "base_uri": "https://localhost:8080/"
        },
        "id": "5RlJn-y0jL5Z",
        "outputId": "cf5c0f3f-b585-4ea7-83b0-32f4853c5f6d"
      },
      "execution_count": null,
      "outputs": [
        {
          "output_type": "stream",
          "name": "stdout",
          "text": [
            "2/2 [==============================] - 0s 5ms/step - loss: 0.7230\n",
            "test loss, test acc: 0.7230116128921509\n"
          ]
        }
      ]
    },
    {
      "cell_type": "code",
      "source": [
        ""
      ],
      "metadata": {
        "id": "-YCVgKq6jL8W"
      },
      "execution_count": null,
      "outputs": []
    }
  ]
}